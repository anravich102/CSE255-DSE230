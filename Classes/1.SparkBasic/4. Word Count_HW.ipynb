{
 "cells": [
  {
   "cell_type": "markdown",
   "metadata": {
    "deletable": false,
    "editable": false,
    "nbgrader": {
     "checksum": "d6c2e7d9d384c814c2e8c3a6eeaa8168",
     "grade": false,
     "grade_id": "1",
     "locked": true,
     "schema_version": 1,
     "solution": false
    },
    "run_control": {
     "frozen": false,
     "read_only": false
    }
   },
   "source": [
    "# Setup Notebook for Exercises"
   ]
  },
  {
   "cell_type": "markdown",
   "metadata": {
    "deletable": false,
    "editable": false,
    "nbgrader": {
     "checksum": "5dabb894218c50033ddf4893b4611119",
     "grade": false,
     "grade_id": "2",
     "locked": true,
     "schema_version": 1,
     "solution": false
    },
    "run_control": {
     "frozen": false,
     "read_only": false
    }
   },
   "source": [
    "##### <span style=\"color:red\">IMPORTANT: Only modify cells which have the following comment:</span>\n",
    "```python\n",
    "# Modify this cell\n",
    "```\n",
    "##### <span style=\"color:red\">Do not add any new cells when you submit the homework</span>"
   ]
  },
  {
   "cell_type": "code",
   "execution_count": 1,
   "metadata": {
    "collapsed": true,
    "deletable": false,
    "editable": false,
    "nbgrader": {
     "checksum": "0bd6008f85b60d5be9760ff4d4148185",
     "grade": false,
     "grade_id": "3",
     "locked": true,
     "schema_version": 1,
     "solution": false
    },
    "run_control": {
     "frozen": false,
     "read_only": false
    }
   },
   "outputs": [],
   "source": [
    "import findspark\n",
    "findspark.init()"
   ]
  },
  {
   "cell_type": "code",
   "execution_count": 2,
   "metadata": {
    "collapsed": false,
    "deletable": false,
    "editable": false,
    "nbgrader": {
     "checksum": "08c1c197f80a25e078ed7178f5519042",
     "grade": false,
     "grade_id": "4",
     "locked": true,
     "schema_version": 1,
     "solution": false
    },
    "run_control": {
     "frozen": false,
     "read_only": false
    }
   },
   "outputs": [],
   "source": [
    "from pyspark import SparkContext\n",
    "sc=SparkContext(master=\"local[4]\")"
   ]
  },
  {
   "cell_type": "code",
   "execution_count": 3,
   "metadata": {
    "collapsed": false,
    "deletable": false,
    "editable": false,
    "nbgrader": {
     "checksum": "ddbdc8653d86a4e26cb5250ba6c81b55",
     "grade": false,
     "grade_id": "5",
     "locked": true,
     "schema_version": 1,
     "solution": false
    },
    "run_control": {
     "frozen": false,
     "read_only": false
    }
   },
   "outputs": [],
   "source": [
    "import Tester.WordCount as WordCount\n",
    "pickleFile=\"Tester/WordCount.pkl\""
   ]
  },
  {
   "cell_type": "markdown",
   "metadata": {
    "deletable": false,
    "editable": false,
    "nbgrader": {
     "checksum": "26b692ca466ba9836dc74cca5398da2a",
     "grade": false,
     "grade_id": "6",
     "locked": true,
     "schema_version": 1,
     "solution": false
    },
    "run_control": {
     "frozen": false,
     "read_only": false
    }
   },
   "source": [
    "Importing all packages necessary to complete the homework"
   ]
  },
  {
   "cell_type": "code",
   "execution_count": 4,
   "metadata": {
    "collapsed": true,
    "deletable": false,
    "editable": false,
    "nbgrader": {
     "checksum": "c74678d07c9675080c6000afeeb1866e",
     "grade": false,
     "grade_id": "7",
     "locked": true,
     "schema_version": 1,
     "solution": false
    },
    "run_control": {
     "frozen": false,
     "read_only": false
    }
   },
   "outputs": [],
   "source": [
    "import numpy as np"
   ]
  },
  {
   "cell_type": "code",
   "execution_count": 5,
   "metadata": {
    "collapsed": false
   },
   "outputs": [],
   "source": [
    "WordCount.get_data()"
   ]
  },
  {
   "cell_type": "markdown",
   "metadata": {
    "deletable": false,
    "editable": false,
    "nbgrader": {
     "checksum": "034bfbcd560c6b9135a4ef61bfc87f9c",
     "grade": false,
     "grade_id": "8",
     "locked": true,
     "schema_version": 1,
     "solution": false
    },
    "run_control": {
     "frozen": false,
     "read_only": false
    },
    "slideshow": {
     "slide_type": "skip"
    }
   },
   "source": [
    "# Exercise\n",
    "A `k`-mer is a sequence of `k` consecutive words. \n",
    "\n",
    "For example, the `3`-mers in the line `you are my sunshine my only sunsine` are\n",
    "\n",
    "* `you are my`\n",
    "* `are my sunshine`\n",
    "* `my sunshine my`\n",
    "* `sunshine my only`\n",
    "* `my only sunsine`\n",
    "\n",
    "For the sake of simplicity we consider only the `k`-mers that appear in a single line. In other words, we ignore `k`-mers that span more than one line.\n",
    "\n",
    "Write a function, using spark all the way to the end, to find to top 10 `k`-mers in a given text for a given `k`.\n",
    "\n",
    "Specifically write functions with the following signatures:\n",
    "```python\n",
    "def map_kmers(text,k):\n",
    "    \\\\ text: an RDD of text lines. Lines contain only lower-case letters and spaces. Spaces should be ignored.\n",
    "    \\\\ k: length of `k`-mers\n",
    "    return  singles\n",
    "    \\\\ singles: an RDD of pairs of the form (tuple of k words,1)\n",
    "def count_kmers(singles):\n",
    "    \\\\ singles: as above\n",
    "    return counts\n",
    "    \\\\ count: RDD of the form: (tuple of k words, number of occurances)\n",
    "def sort_counts(count):\n",
    "    \\\\ count: as above\n",
    "    return sorted_counts\n",
    "    \\\\ sorted_counts: RDD of the form (number of occurances, tuple of k words) sorted in decreasing number of occurances.\n",
    "```\n",
    "\n",
    "######  <span style=\"color:blue\">Code:</span>\n",
    "```python \n",
    "text_file = sc.textFile(u'../../Data/Moby-Dick.txt')\n",
    "print getkmers(text_file,5,2, map_kmers, count_kmers, sort_counts)\n",
    "```\n",
    "######  <span style=\"color:magenta\">Output:</span>\n",
    "most common 2-mers<br>\n",
    "1796:\t(u'of', u'the')<br>\n",
    "1145:\t(u'in', u'the')<br>\n",
    "708:\t(u'to', u'the')<br>\n",
    "408:\t(u'from', u'the')<br>\n",
    "376:\t(u'the', u'whale')"
   ]
  },
  {
   "cell_type": "code",
   "execution_count": 32,
   "metadata": {
    "collapsed": false,
    "deletable": true,
    "editable": true,
    "run_control": {
     "frozen": false,
     "read_only": false
    },
    "slideshow": {
     "slide_type": "skip"
    }
   },
   "outputs": [],
   "source": [
    "#I'm adding a helper function to compute k-mers:\n",
    "import re\n",
    "from string import lower,strip\n",
    "\n",
    "def compute_kmers(input_list, k):\n",
    "    kmers = []\n",
    "    words  = [w for w in re.split(r'\\W+',input_list) if len(w)>0]\n",
    "    for i in range(0,len(words)-(k-1)):\n",
    "            temp = ''\n",
    "            for j in range(0,k):\n",
    "                temp = temp+words[i+j]\n",
    "                #temp = temp+' '\n",
    "            temp = strip(temp)\n",
    "            kmers.append(temp)\n",
    "            \n",
    "    return kmers\n",
    "    \n",
    "    \n",
    "\n",
    "\n",
    "def map_kmers(text,k):\n",
    "    # text: an RDD of text lines. Lines contain only lower-case letters and spaces. Spaces should be ignored.\n",
    "    # k: length of `k`-mers\n",
    "    return  text.flatMap(lambda x: compute_kmers(x,k)).map(lambda x: (x,1))\n",
    "    #return  singles\n",
    "    # singles: an RDD of pairs of the form (tuple of k words,1)\n",
    "    \n",
    "    \n",
    "def count_kmers(singles):\n",
    "    # singles: as above\n",
    "    return singles.reduceByKey(lambda x,y:x+y)\n",
    "    # count: RDD of the form: (tuple of k words, number of occurances)\n",
    "def sort_counts(count):\n",
    "    # count: as above\n",
    "    return count.map(lambda (x,y): (y,x)).sortByKey(False)\n",
    "    # sorted_counts: RDD of the form (number of occurances, tuple of k words) sorted in decreasing number of"
   ]
  },
  {
   "cell_type": "code",
   "execution_count": 33,
   "metadata": {
    "collapsed": false,
    "deletable": false,
    "editable": false,
    "nbgrader": {
     "checksum": "15b38a1786716c48ad92a6fb69716726",
     "grade": false,
     "grade_id": "9",
     "locked": true,
     "schema_version": 1,
     "solution": false
    },
    "run_control": {
     "frozen": false,
     "read_only": false
    },
    "slideshow": {
     "slide_type": "skip"
    }
   },
   "outputs": [],
   "source": [
    "# Do Not modify this cell\n",
    "def getkmers(text_file, l,k, map_kmers, count_kmers, sort_counts):\n",
    "    # text_file: the text_file RDD read above\n",
    "    # k: k-mers\n",
    "    # l: l most common k-mers\n",
    "    \n",
    "    import re\n",
    "    def removePunctuation(text):\n",
    "        return re.sub(\"[^0-9a-zA-Z ]\", \" \", text)\n",
    "    text = text_file.map(removePunctuation)\\\n",
    "                    .map(lambda x: x.lower())\n",
    "    \n",
    "    singles=map_kmers(text,k)\n",
    "    count=count_kmers(singles)\n",
    "    sorted_counts=sort_counts(count)\n",
    "    \n",
    "    C=sorted_counts.take(l)\n",
    "    print 'most common %d-mers\\n'%k,'\\n'.join(['%d:\\t%s'%c for c in C])"
   ]
  },
  {
   "cell_type": "code",
   "execution_count": 8,
   "metadata": {
    "collapsed": false,
    "deletable": false,
    "editable": false,
    "nbgrader": {
     "checksum": "602652b0e137c4a007b825bb1492b309",
     "grade": false,
     "grade_id": "10",
     "locked": true,
     "schema_version": 1,
     "solution": false
    },
    "run_control": {
     "frozen": false,
     "read_only": false
    }
   },
   "outputs": [
    {
     "name": "stderr",
     "output_type": "stream",
     "text": [
      "Invalid switch - \"..\".\n"
     ]
    }
   ],
   "source": [
    "# First, check that the text file is where we expect it to be\n",
    "%ls -l ../../Data/Moby-Dick.txt"
   ]
  },
  {
   "cell_type": "code",
   "execution_count": 34,
   "metadata": {
    "collapsed": true,
    "deletable": false,
    "editable": false,
    "nbgrader": {
     "checksum": "975b5383c6ea2dc4a14d51d1f59c1322",
     "grade": false,
     "grade_id": "11",
     "locked": true,
     "schema_version": 1,
     "solution": false
    },
    "run_control": {
     "frozen": false,
     "read_only": false
    }
   },
   "outputs": [],
   "source": [
    "text_file = sc.textFile(u'../../Data/Moby-Dick.txt')"
   ]
  },
  {
   "cell_type": "code",
   "execution_count": 35,
   "metadata": {
    "collapsed": false,
    "deletable": false,
    "editable": false,
    "nbgrader": {
     "checksum": "29371746510fc9d8e95e6c515e64a37a",
     "grade": false,
     "grade_id": "12",
     "locked": true,
     "schema_version": 1,
     "solution": false
    },
    "run_control": {
     "frozen": false,
     "read_only": false
    }
   },
   "outputs": [
    {
     "name": "stdout",
     "output_type": "stream",
     "text": [
      "most common 2-mers\n",
      "1796:\tofthe\n",
      "1145:\tinthe\n",
      "708:\ttothe\n",
      "408:\tfromthe\n",
      "376:\tthewhale\n"
     ]
    }
   ],
   "source": [
    "# Print the output of the aggregate function for top 5 2-mers\n",
    "getkmers(text_file,5,2, map_kmers, count_kmers, sort_counts)"
   ]
  },
  {
   "cell_type": "code",
   "execution_count": 36,
   "metadata": {
    "collapsed": false,
    "deletable": false,
    "editable": false,
    "nbgrader": {
     "checksum": "ba1ffde57faec4c85bbd4d5fa8c4034a",
     "grade": true,
     "grade_id": "ex_1",
     "locked": true,
     "points": 3,
     "schema_version": 1,
     "solution": false
    },
    "run_control": {
     "frozen": false,
     "read_only": false
    }
   },
   "outputs": [
    {
     "name": "stdout",
     "output_type": "stream",
     "text": [
      "Correct Output: [(91, (u'of', u'the', u'whale')), (91, (u'the', u'sperm', u'whale')), (76, (u'the', u'white', u'whale')), (55, (u'one', u'of', u'the')), (54, (u'of', u'the', u'sea'))]\n",
      "\n",
      "Error: Function returned incorrect output\n",
      "Your Output:  [(91, u'thespermwhale'), (91, u'ofthewhale'), (76, u'thewhitewhale'), (55, u'oneofthe'), (54, u'ofthesea')]\n"
     ]
    },
    {
     "ename": "AssertionError",
     "evalue": "Your Answer is Incorrect",
     "output_type": "error",
     "traceback": [
      "\u001b[0;31m---------------------------------------------------------------------------\u001b[0m",
      "\u001b[0;31mAssertionError\u001b[0m                            Traceback (most recent call last)",
      "\u001b[0;32m<ipython-input-36-2f960e215751>\u001b[0m in \u001b[0;36m<module>\u001b[0;34m()\u001b[0m\n\u001b[1;32m      1\u001b[0m \u001b[1;32mimport\u001b[0m \u001b[0mTester\u001b[0m\u001b[1;33m.\u001b[0m\u001b[0mWordCount\u001b[0m \u001b[1;32mas\u001b[0m \u001b[0mWordCount\u001b[0m\u001b[1;33m\u001b[0m\u001b[0m\n\u001b[0;32m----> 2\u001b[0;31m \u001b[0mWordCount\u001b[0m\u001b[1;33m.\u001b[0m\u001b[0mexercise\u001b[0m\u001b[1;33m(\u001b[0m\u001b[0mpickleFile\u001b[0m\u001b[1;33m,\u001b[0m \u001b[0mmap_kmers\u001b[0m\u001b[1;33m,\u001b[0m \u001b[0mcount_kmers\u001b[0m\u001b[1;33m,\u001b[0m \u001b[0msort_counts\u001b[0m\u001b[1;33m,\u001b[0m \u001b[0msc\u001b[0m\u001b[1;33m)\u001b[0m\u001b[1;33m\u001b[0m\u001b[0m\n\u001b[0m",
      "\u001b[0;32mC:\\Users\\User\\Desktop\\CSE255-DSE230\\Classes\\1.SparkBasic\\Tester\\WordCount.py\u001b[0m in \u001b[0;36mexercise\u001b[0;34m(pickleFile, map_kmers, count_kmers, sort_counts, sc)\u001b[0m\n\u001b[1;32m     30\u001b[0m     \u001b[0mfunc_student\u001b[0m \u001b[1;33m=\u001b[0m \u001b[1;32mlambda\u001b[0m \u001b[0mRDD\u001b[0m\u001b[1;33m:\u001b[0m \u001b[0mgetkmers\u001b[0m\u001b[1;33m(\u001b[0m\u001b[0mRDD\u001b[0m\u001b[1;33m,\u001b[0m \u001b[1;36m5\u001b[0m\u001b[1;33m,\u001b[0m\u001b[1;36m3\u001b[0m\u001b[1;33m,\u001b[0m \u001b[0mmap_kmers\u001b[0m\u001b[1;33m,\u001b[0m \u001b[0mcount_kmers\u001b[0m\u001b[1;33m,\u001b[0m \u001b[0msort_counts\u001b[0m\u001b[1;33m)\u001b[0m\u001b[1;33m\u001b[0m\u001b[0m\n\u001b[1;32m     31\u001b[0m     \u001b[0mnoError\u001b[0m \u001b[1;33m=\u001b[0m \u001b[0mTestRDDK\u001b[0m\u001b[1;33m(\u001b[0m \u001b[0mdata\u001b[0m\u001b[1;33m=\u001b[0m\u001b[0mtext_file\u001b[0m\u001b[1;33m,\u001b[0m \u001b[0mfunc_student\u001b[0m\u001b[1;33m=\u001b[0m\u001b[0mfunc_student\u001b[0m\u001b[1;33m,\u001b[0m \u001b[0mcorAns\u001b[0m\u001b[1;33m=\u001b[0m\u001b[0mcase\u001b[0m\u001b[1;33m[\u001b[0m\u001b[1;36m0\u001b[0m\u001b[1;33m]\u001b[0m\u001b[1;33m,\u001b[0m \u001b[0mcorType\u001b[0m\u001b[1;33m=\u001b[0m\u001b[0mcase\u001b[0m\u001b[1;33m[\u001b[0m\u001b[1;36m1\u001b[0m\u001b[1;33m]\u001b[0m\u001b[1;33m,\u001b[0m \u001b[0mtakeK\u001b[0m\u001b[1;33m=\u001b[0m\u001b[1;36m5\u001b[0m\u001b[1;33m,\u001b[0m \u001b[0mtoPrint\u001b[0m\u001b[1;33m=\u001b[0m\u001b[0mFalse\u001b[0m\u001b[1;33m)\u001b[0m\u001b[1;33m\u001b[0m\u001b[0m\n\u001b[0;32m---> 32\u001b[0;31m     \u001b[1;32mif\u001b[0m \u001b[0mnoError\u001b[0m \u001b[1;33m==\u001b[0m \u001b[0mFalse\u001b[0m\u001b[1;33m:\u001b[0m \u001b[1;32mraise\u001b[0m \u001b[0mAssertionError\u001b[0m\u001b[1;33m(\u001b[0m\u001b[1;34m'Your Answer is Incorrect'\u001b[0m\u001b[1;33m)\u001b[0m\u001b[1;33m\u001b[0m\u001b[0m\n\u001b[0m\u001b[1;32m     33\u001b[0m     \u001b[1;32mprint\u001b[0m\u001b[1;33m\u001b[0m\u001b[0m\n",
      "\u001b[0;31mAssertionError\u001b[0m: Your Answer is Incorrect"
     ]
    }
   ],
   "source": [
    "import Tester.WordCount as WordCount\n",
    "WordCount.exercise(pickleFile, map_kmers, count_kmers, sort_counts, sc)"
   ]
  },
  {
   "cell_type": "code",
   "execution_count": null,
   "metadata": {
    "collapsed": true,
    "deletable": false,
    "editable": false,
    "nbgrader": {
     "checksum": "c695062e5c578de5b879a0c7974d71c3",
     "grade": false,
     "grade_id": "13",
     "locked": true,
     "schema_version": 1,
     "solution": false
    },
    "run_control": {
     "frozen": false,
     "read_only": false
    }
   },
   "outputs": [],
   "source": [
    "\n",
    "\n",
    "\n"
   ]
  }
 ],
 "metadata": {
  "kernelspec": {
   "display_name": "Python 2",
   "language": "python",
   "name": "python2"
  },
  "language_info": {
   "codemirror_mode": {
    "name": "ipython",
    "version": 2
   },
   "file_extension": ".py",
   "mimetype": "text/x-python",
   "name": "python",
   "nbconvert_exporter": "python",
   "pygments_lexer": "ipython2",
   "version": "2.7.13"
  },
  "toc": {
   "colors": {
    "hover_highlight": "#DAA520",
    "running_highlight": "#FF0000",
    "selected_highlight": "#FFD700"
   },
   "moveMenuLeft": true,
   "nav_menu": {
    "height": "48px",
    "width": "252px"
   },
   "navigate_menu": true,
   "number_sections": true,
   "sideBar": true,
   "threshold": 4,
   "toc_cell": false,
   "toc_section_display": "block",
   "toc_window_display": true,
   "widenNotebook": false
  }
 },
 "nbformat": 4,
 "nbformat_minor": 2
}
